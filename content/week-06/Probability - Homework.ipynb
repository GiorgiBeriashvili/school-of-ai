{
 "cells": [
  {
   "cell_type": "markdown",
   "metadata": {},
   "source": [
    "# Sigma-algebras"
   ]
  },
  {
   "cell_type": "markdown",
   "metadata": {},
   "source": [
    "#### Prove that:\n",
    "Composition of mesurable functions is a mesurable function"
   ]
  },
  {
   "cell_type": "markdown",
   "metadata": {},
   "source": [
    "#### **Proof:**\n",
    "\n",
    "Let $\\left( X, \\Sigma_X \\right)$, $\\left( Y,\\Sigma_Y \\right)$, and $\\left( Z, \\Sigma_Z \\right)$ be measurable spaces.\n",
    "\n",
    "If $f: X \\to Y$ and $g: Y \\to Z$ are measurable with respect to the given $\\sigma$-algebras, then $g \\circ f: X \\to Z$ is measurable.\n",
    "\n",
    "We have to verify that if $E$ is a measurable subset of $Z$ then its inverse image under $g \\circ f$ is a measurable subset of $X$. This follows from the individual measurability of $f$ and $g$, for if $E \\in \\Sigma_Z$ then $g^{\\text{−}1}\\left( E \\right) \\in \\Sigma_Y$ since $g$ is measurable, and hence $\\left( g \\circ f \\right)^{\\text{−}1}\\left( E \\right) = f^{\\text{−}1}\\left( g^{\\text{−}1}\\left( E \\right) \\right) \\in \\Sigma_X$ since $f$ is measurable.\n"
   ]
  },
  {
   "cell_type": "markdown",
   "metadata": {},
   "source": [
    "## Mesure"
   ]
  },
  {
   "cell_type": "markdown",
   "metadata": {},
   "source": [
    "#### Prove the following mesure properties:\n",
    "- if $A \\subset B$ then $\\mu(A) \\le \\mu(B)$\n",
    "<br>\n",
    "Proof: $(B - A) \\cup (A \\cap B) = (B - A) \\cup A = B$ and $(B - A) \\cap (A \\cap B) = \\emptyset$ so $\\mu((B - A) \\cup (A \\cap B)) = \\mu(B - A) + \\mu(A \\cap B) = \\mu(B - A) + \\mu(A) = \\mu(B)$ so $\\mu(A) \\le \\mu(B)$"
   ]
  },
  {
   "cell_type": "markdown",
   "metadata": {},
   "source": [
    "## Probability"
   ]
  },
  {
   "cell_type": "markdown",
   "metadata": {},
   "source": [
    "#### Prove that:\n",
    "For probability mesure $P$ and events $A, B, C \\subset \\Omega$\n",
    "- $P(A \\cup B) = P(A) + P(B) - P(A \\cap B)$\n",
    "<br>"
   ]
  },
  {
   "cell_type": "markdown",
   "metadata": {},
   "source": [
    "#### **Proof:**\n",
    "\n",
    "$P(A) + P(B) - P(A \\cap B) = P(A - B) + P(B - A) + P(A \\cap B) = P(A \\cup B)$\n"
   ]
  },
  {
   "cell_type": "markdown",
   "metadata": {},
   "source": [
    "## Random variable"
   ]
  },
  {
   "cell_type": "markdown",
   "metadata": {},
   "source": [
    "#### Prove that:\n",
    "$$\n",
    "\\sigma^2 = \\operatorname{E}[X^2] - (\\operatorname{E}[X])^2\n",
    "$$\n",
    "Assuming that expectation exists\n",
    "<br>\n",
    "Denoted by $\\sigma^2$\n",
    "<br>"
   ]
  },
  {
   "cell_type": "markdown",
   "metadata": {},
   "source": [
    "#### **Proof:**\n",
    "\n",
    "$$\\sigma^2 = E[(X - \\mu)^2] = E[(X - E[X])^2] = E[(X - E[X])(X - E[X])] = E[X^2] - 2(E[X])^2 + (E[X])^2 = E[X^2] - (E[X])^2$$"
   ]
  }
 ],
 "metadata": {
  "kernelspec": {
   "display_name": "Python 3",
   "language": "python",
   "name": "python3"
  },
  "language_info": {
   "codemirror_mode": {
    "name": "ipython",
    "version": 3
   },
   "file_extension": ".py",
   "mimetype": "text/x-python",
   "name": "python",
   "nbconvert_exporter": "python",
   "pygments_lexer": "ipython3",
   "version": "3.7.5"
  }
 },
 "nbformat": 4,
 "nbformat_minor": 4
}