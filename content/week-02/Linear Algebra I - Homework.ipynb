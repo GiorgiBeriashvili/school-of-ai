{
 "cells": [
  {
   "cell_type": "markdown",
   "metadata": {},
   "source": [
    "# Set theory basics"
   ]
  },
  {
   "cell_type": "markdown",
   "metadata": {},
   "source": [
    "#### Prove that:\n",
    "\n",
    "$A \\subseteq A$"
   ]
  },
  {
   "cell_type": "markdown",
   "metadata": {},
   "source": [
    "#### **Proof:**\n",
    "\n",
    "$A \\subseteq A \\iff \\forall x: \\left( x \\in A \\implies x \\in A \\right)$\n",
    "\n",
    "Implementation in Python:\n",
    "\n",
    "```python\n",
    "A = {1, 2, 3, 4, 5}\n",
    "\n",
    "A.issubset(A) # True\n",
    "```\n",
    "\n",
    "---\n"
   ]
  },
  {
   "cell_type": "markdown",
   "metadata": {},
   "source": [
    "#### Prove that:\n",
    "\n",
    "If $A \\subseteq B$ and $B \\subseteq A$ $\\to$ $A = B$"
   ]
  },
  {
   "cell_type": "markdown",
   "metadata": {},
   "source": [
    "#### **Proof:**\n",
    "\n",
    "$\\forall x: \\left( x \\in A \\iff x \\in B \\right) \\iff \\left( A = B \\right)$\n",
    "\n",
    "Implementation in Python:\n",
    "\n",
    "```python\n",
    "A = {1, 2, 3, 4, 5}\n",
    "B = {1, 2, 3, 4, 5}\n",
    "\n",
    "if A.issubset(B) and B.issubset(A):\n",
    "    A == B # True\n",
    "```\n",
    "\n",
    "---\n"
   ]
  },
  {
   "cell_type": "markdown",
   "metadata": {},
   "source": [
    "#### Prove that:\n",
    "\n",
    "Empty set a $\\emptyset$ is a set without elements at all and which is contained in any set $\\emptyset \\subseteq A$ for any $A \\in Set$ so $\\emptyset$ is the \"smallest\" set"
   ]
  },
  {
   "cell_type": "markdown",
   "metadata": {},
   "source": [
    "#### **Proof:**\n",
    "\n",
    "$\\forall A: \\emptyset \\subseteq A \\implies \\forall x: \\left( x \\in \\emptyset \\implies x \\in A \\right) \\implies \\forall x: \\neg \\left( x \\in \\emptyset \\right)$\n",
    "\n",
    "Implementation in Python:\n",
    "\n",
    "```python\n",
    "A = {1, 2, 3}\n",
    "B = {4, 5, 6}\n",
    "O = set()\n",
    "\n",
    "O.issubset(A) # True\n",
    "O.issubset(B) # True\n",
    "O.issubset(O) # True\n",
    "```\n",
    "\n",
    "---\n"
   ]
  },
  {
   "cell_type": "markdown",
   "metadata": {},
   "source": [
    "#### Prove that:\n",
    "\n",
    "if $B \\subset A$ then $A \\cap B = B$"
   ]
  },
  {
   "cell_type": "markdown",
   "metadata": {},
   "source": [
    "#### **Proof:**\n",
    "\n",
    "If $B \\subset A \\implies \\forall x: \\left( x \\in B \\implies x \\in A \\right) \\land \\left( B \\ne A \\right) \\land \\left( B \\ne \\emptyset \\right)$, therefore - $A \\cap B$ must contain elements of $A$ that are present in $B$, which implies that it will contain the entirety of $B$, since set intersection is defined to consist of all the elements which are contained in both of $A$ and $B$.\n",
    "\n",
    "Implementation in Python:\n",
    "\n",
    "```python\n",
    "A = {1, 2, 3, 4, 5}\n",
    "B = {1, 3, 5}\n",
    "\n",
    "if B.issubset(A):\n",
    "    A.intersection(B) == B # True\n",
    "```\n",
    "\n",
    "---\n"
   ]
  },
  {
   "cell_type": "markdown",
   "metadata": {},
   "source": [
    "#### Prove that:\n",
    "\n",
    "$A \\cap B = B \\cap A$"
   ]
  },
  {
   "cell_type": "markdown",
   "metadata": {},
   "source": [
    "#### **Proof:**\n",
    "\n",
    "$\\left( A \\cap B = B \\cap A \\right) \\equiv \\left( \\left( x \\in A \\cap B \\iff x \\in A \\land x \\in B \\right) \\iff \\left( x \\in B \\cap A \\iff x \\in B \\land x \\in A \\right) \\right)$\n",
    "\n",
    "Implementation in Python:\n",
    "\n",
    "```python\n",
    "A = {1, 2, 3}\n",
    "B = {3, 4, 5}\n",
    "\n",
    "A.intersection(B) == B.intersection(A) # True\n",
    "```\n",
    "\n",
    "---\n"
   ]
  },
  {
   "cell_type": "markdown",
   "metadata": {},
   "source": [
    "#### Prove that:\n",
    "\n",
    "if $B \\subset A$ then $A \\cup B = A$"
   ]
  },
  {
   "cell_type": "markdown",
   "metadata": {},
   "source": [
    "#### **Proof:**\n",
    "\n",
    "If $B \\subset A \\implies \\forall x: \\left( x \\in B \\implies x \\in A \\right) \\land \\left( B \\ne A \\right) \\land \\left( B \\ne \\emptyset \\right)$, therefore - $A \\cup B$ must contain all elements of $A$, since set union is defined to consist of all the elements which are contained in either (or both) of $A$ and $B$.\n",
    "\n",
    "Implementation in Python:\n",
    "\n",
    "```python\n",
    "A = {1, 2, 3, 4, 5}\n",
    "B = {1, 3, 5}\n",
    "\n",
    "if B.issubset(A):\n",
    "    A.union(B) == A # True\n",
    "```\n",
    "\n",
    "---\n"
   ]
  },
  {
   "cell_type": "markdown",
   "metadata": {},
   "source": [
    "#### Prove that:\n",
    "\n",
    "$A \\cup B = B \\cup A$"
   ]
  },
  {
   "cell_type": "markdown",
   "metadata": {},
   "source": [
    "#### **Proof:**\n",
    "\n",
    "$\\left( A \\cup B = B \\cup A \\right) \\equiv \\left( \\left( x \\in A \\cup B \\iff x \\in A \\lor x \\in B \\right) \\iff \\left( x \\in B \\cup A \\iff x \\in B \\lor x \\in A \\right) \\right)$\n",
    "\n",
    "Implementation in Python:\n",
    "\n",
    "```python\n",
    "A = {1, 2, 3}\n",
    "B = {3, 4, 5}\n",
    "\n",
    "A.union(B) == B.union(A) # True\n",
    "```\n",
    "\n",
    "---\n"
   ]
  },
  {
   "cell_type": "markdown",
   "metadata": {},
   "source": [
    "#### Prove that:\n",
    "- for every injection $m:A \\to B$ and pair of functions $f, g :C \\to A$: if $m \\circ f = m \\circ g$ then $f = g$ and vice-versa\n",
    "- for every surjection $e:A \\to B$ and every pair of functions $f, g :B \\to C$: if $f \\circ e = g \\circ e$ then $f = g$ and vice-versa"
   ]
  },
  {
   "cell_type": "markdown",
   "metadata": {},
   "source": [
    "#### Prove that \n",
    "- composition of injections is injection itself\n",
    "- composition of surjections is surjection itself\n",
    "- composition of bijections is bijection itself\n",
    "<br>\n",
    "or give a counterexamples"
   ]
  },
  {
   "cell_type": "markdown",
   "metadata": {},
   "source": [
    "#### Prove that for each set $A$:\n",
    "- $A \\cong A$\n",
    "- if $B \\cong A$ then $B \\cong A$ for every pair of sets $A$ and $B$\n",
    "- if $A \\cong B$ and $B \\cong C$ then $A \\cong C$ for every triplet $A$, $B$ and $C$"
   ]
  },
  {
   "cell_type": "markdown",
   "metadata": {},
   "source": [
    "#### Prove that:\n",
    "<br>\n",
    "there exists a bijection between set of natural and even numbers"
   ]
  },
  {
   "cell_type": "markdown",
   "metadata": {},
   "source": [
    "#### Prove that:\n",
    "<br>\n",
    "if we have a bijection between two finite sets than they have an equal number of elements"
   ]
  },
  {
   "cell_type": "markdown",
   "metadata": {},
   "source": [
    "#### Prove that:\n",
    "<br>\n",
    "$A \\times B \\cong B \\times A$"
   ]
  },
  {
   "cell_type": "markdown",
   "metadata": {},
   "source": [
    "$\\cap_{i\\in I}A_i$ and $\\cup_{i\\in I}A_i$"
   ]
  },
  {
   "cell_type": "code",
   "execution_count": null,
   "metadata": {},
   "outputs": [],
   "source": [
    "# Inplement in python"
   ]
  },
  {
   "cell_type": "markdown",
   "metadata": {},
   "source": [
    "We can also define cartesian product of any \"number\" of sets $\\prod_{i \\in I}{A_i}$"
   ]
  },
  {
   "cell_type": "code",
   "execution_count": null,
   "metadata": {},
   "outputs": [],
   "source": [
    "# Inplement in python"
   ]
  },
  {
   "cell_type": "markdown",
   "metadata": {},
   "source": [
    "#### Prove that:\n",
    "<br>\n",
    "$$A \\cap (B \\cup C)=(A \\cap B) \\cup (A\\cap C)$$\n",
    "$$A \\cup (B \\cap C)=(A \\cup B) \\cap (A\\cup C)$$"
   ]
  },
  {
   "cell_type": "markdown",
   "metadata": {},
   "source": [
    "# Linear Algebra"
   ]
  },
  {
   "cell_type": "markdown",
   "metadata": {},
   "source": [
    "#### Prove that:\n",
    "<br>\n",
    "$(AB)^{T} = B^{T}A^{T}$ for each pair of matrices $A, B \\in \\mathbb{R}^{n \\times m}$"
   ]
  },
  {
   "cell_type": "markdown",
   "metadata": {},
   "source": [
    "## Functions on tensors"
   ]
  },
  {
   "cell_type": "markdown",
   "metadata": {},
   "source": [
    "#### Write combination for $XOR$ calculation"
   ]
  },
  {
   "cell_type": "code",
   "execution_count": null,
   "metadata": {},
   "outputs": [],
   "source": []
  }
 ],
 "metadata": {
  "kernelspec": {
   "display_name": "Python 3",
   "language": "python",
   "name": "python3"
  },
  "language_info": {
   "codemirror_mode": {
    "name": "ipython",
    "version": 3
   },
   "file_extension": ".py",
   "mimetype": "text/x-python",
   "name": "python",
   "nbconvert_exporter": "python",
   "pygments_lexer": "ipython3",
   "version": "3.7.5"
  }
 },
 "nbformat": 4,
 "nbformat_minor": 4
}
