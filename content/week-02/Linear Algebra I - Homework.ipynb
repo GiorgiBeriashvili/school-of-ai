{
 "cells": [
  {
   "cell_type": "markdown",
   "metadata": {},
   "source": [
    "# Set theory basics"
   ]
  },
  {
   "cell_type": "markdown",
   "metadata": {},
   "source": [
    "#### Prove that:\n",
    "\n",
    "$A \\subseteq A$"
   ]
  },
  {
   "cell_type": "markdown",
   "metadata": {},
   "source": [
    "#### **Proof:**\n",
    "\n",
    "$A \\subseteq A \\iff \\forall x: \\left( x \\in A \\implies x \\in A \\right)$\n",
    "\n",
    "Implementation in Python:\n",
    "\n",
    "```python\n",
    "A = {1, 2, 3, 4, 5}\n",
    "\n",
    "A.issubset(A)  # True\n",
    "```\n",
    "\n",
    "---\n"
   ]
  },
  {
   "cell_type": "markdown",
   "metadata": {},
   "source": [
    "#### Prove that:\n",
    "\n",
    "If $A \\subseteq B$ and $B \\subseteq A$ $\\to$ $A = B$"
   ]
  },
  {
   "cell_type": "markdown",
   "metadata": {},
   "source": [
    "#### **Proof:**\n",
    "\n",
    "$\\forall x: \\left( x \\in A \\iff x \\in B \\right) \\iff \\left( A = B \\right)$\n",
    "\n",
    "Implementation in Python:\n",
    "\n",
    "```python\n",
    "A = {1, 2, 3, 4, 5}\n",
    "B = {1, 2, 3, 4, 5}\n",
    "\n",
    "if A.issubset(B) and B.issubset(A):\n",
    "    A == B  # True\n",
    "```\n",
    "\n",
    "---\n"
   ]
  },
  {
   "cell_type": "markdown",
   "metadata": {},
   "source": [
    "#### Prove that:\n",
    "\n",
    "Empty set a $\\emptyset$ is a set without elements at all and which is contained in any set $\\emptyset \\subseteq A$ for any $A \\in Set$ so $\\emptyset$ is the \"smallest\" set"
   ]
  },
  {
   "cell_type": "markdown",
   "metadata": {},
   "source": [
    "#### **Proof:**\n",
    "\n",
    "$\\forall A: \\emptyset \\subseteq A \\implies \\forall x: \\left( x \\in \\emptyset \\implies x \\in A \\right) \\implies \\forall x: \\neg \\left( x \\in \\emptyset \\right)$\n",
    "\n",
    "Implementation in Python:\n",
    "\n",
    "```python\n",
    "A = {1, 2, 3}\n",
    "B = {4, 5, 6}\n",
    "O = set()\n",
    "\n",
    "O.issubset(A)  # True\n",
    "O.issubset(B)  # True\n",
    "O.issubset(O)  # True\n",
    "```\n",
    "\n",
    "---\n"
   ]
  },
  {
   "cell_type": "markdown",
   "metadata": {},
   "source": [
    "#### Prove that:\n",
    "\n",
    "if $B \\subset A$ then $A \\cap B = B$"
   ]
  },
  {
   "cell_type": "markdown",
   "metadata": {},
   "source": [
    "#### **Proof:**\n",
    "\n",
    "If $B \\subset A \\implies \\forall x: \\left( x \\in B \\implies x \\in A \\right) \\land \\left( B \\ne A \\right) \\land \\left( B \\ne \\emptyset \\right)$, therefore - $A \\cap B$ must contain elements of $A$ that are present in $B$, which implies that it will contain the entirety of $B$, since set intersection is defined to consist of all the elements which are contained in both of $A$ and $B$.\n",
    "\n",
    "Implementation in Python:\n",
    "\n",
    "```python\n",
    "A = {1, 2, 3, 4, 5}\n",
    "B = {1, 3, 5}\n",
    "\n",
    "if B.issubset(A):\n",
    "    A.intersection(B) == B  # True\n",
    "```\n",
    "\n",
    "---\n"
   ]
  },
  {
   "cell_type": "markdown",
   "metadata": {},
   "source": [
    "#### Prove that:\n",
    "\n",
    "$A \\cap B = B \\cap A$"
   ]
  },
  {
   "cell_type": "markdown",
   "metadata": {},
   "source": [
    "#### **Proof:**\n",
    "\n",
    "$\\left( A \\cap B = B \\cap A \\right) = \\left( \\left( x \\in A \\cap B \\iff x \\in A \\land x \\in B \\right) \\iff \\left( x \\in B \\cap A \\iff x \\in B \\land x \\in A \\right) \\right)$\n",
    "\n",
    "Implementation in Python:\n",
    "\n",
    "```python\n",
    "A = {1, 2, 3}\n",
    "B = {3, 4, 5}\n",
    "\n",
    "A.intersection(B) == B.intersection(A)  # True\n",
    "```\n",
    "\n",
    "---\n"
   ]
  },
  {
   "cell_type": "markdown",
   "metadata": {},
   "source": [
    "#### Prove that:\n",
    "\n",
    "if $B \\subset A$ then $A \\cup B = A$"
   ]
  },
  {
   "cell_type": "markdown",
   "metadata": {},
   "source": [
    "#### **Proof:**\n",
    "\n",
    "If $B \\subset A \\implies \\forall x: \\left( x \\in B \\implies x \\in A \\right) \\land \\left( B \\ne A \\right) \\land \\left( B \\ne \\emptyset \\right)$, therefore - $A \\cup B$ must contain all elements of $A$, since set union is defined to consist of all the elements which are contained in either (or both) of $A$ and $B$.\n",
    "\n",
    "Implementation in Python:\n",
    "\n",
    "```python\n",
    "A = {1, 2, 3, 4, 5}\n",
    "B = {1, 3, 5}\n",
    "\n",
    "if B.issubset(A):\n",
    "    A.union(B) == A  # True\n",
    "```\n",
    "\n",
    "---\n"
   ]
  },
  {
   "cell_type": "markdown",
   "metadata": {},
   "source": [
    "#### Prove that:\n",
    "\n",
    "$A \\cup B = B \\cup A$"
   ]
  },
  {
   "cell_type": "markdown",
   "metadata": {},
   "source": [
    "#### **Proof:**\n",
    "\n",
    "$\\left( A \\cup B = B \\cup A \\right) = \\left( \\left( x \\in A \\cup B \\iff x \\in A \\lor x \\in B \\right) \\iff \\left( x \\in B \\cup A \\iff x \\in B \\lor x \\in A \\right) \\right)$\n",
    "\n",
    "Implementation in Python:\n",
    "\n",
    "```python\n",
    "A = {1, 2, 3}\n",
    "B = {3, 4, 5}\n",
    "\n",
    "A.union(B) == B.union(A)  # True\n",
    "```\n",
    "\n",
    "---\n"
   ]
  },
  {
   "cell_type": "markdown",
   "metadata": {},
   "source": [
    "#### Prove that:\n",
    "- for every injection $m:A \\to B$ and pair of functions $f, g :C \\to A$: if $m \\circ f = m \\circ g$ then $f = g$ and vice-versa\n",
    "- for every surjection $e:A \\to B$ and every pair of functions $f, g :B \\to C$: if $f \\circ e = g \\circ e$ then $f = g$ and vice-versa"
   ]
  },
  {
   "cell_type": "markdown",
   "metadata": {},
   "source": [
    "#### **Proof:**\n",
    "\n",
    "- Regarding injection:\n",
    "    - $\\forall x \\in C \\left( m \\circ f \\right) \\left( x \\right) = \\left( m \\circ g \\right) \\left( x \\right)$\n",
    "    - $m \\left( f \\left( x \\right) \\right) = m \\left( g \\left( x \\right) \\right)$\n",
    "    - $f \\left( x \\right) = g \\left( x \\right)$\n",
    "    - $f = g$\n",
    "  \n",
    "\n",
    "- Regarding surjection:\n",
    "    - $\\forall y \\in B: \\exists x \\in A: e \\left( x \\right) = y$\n",
    "    - $\\left( f \\circ e \\right) \\left( x \\right) = \\left( g \\circ e \\right) \\left( x \\right)$\n",
    "    - $f \\left( e \\left( x \\right) \\right) = g \\left( e \\left( x \\right) \\right)$\n",
    "    - $f \\left( y \\right) = g \\left( y \\right)$\n",
    "    - $f = g$\n",
    "    \n",
    "---\n"
   ]
  },
  {
   "cell_type": "markdown",
   "metadata": {},
   "source": [
    "#### Prove that \n",
    "- composition of injections is injection itself\n",
    "- composition of surjections is surjection itself\n",
    "- composition of bijections is bijection itself\n",
    "\n",
    "or give a counterexamples"
   ]
  },
  {
   "cell_type": "markdown",
   "metadata": {},
   "source": [
    "#### **Proof:**\n",
    "\n",
    "- Regarding injection:\n",
    "    - $\\forall x_1, x_2 \\in f: f \\left( x_1 \\right) = f \\left( x_2 \\right) \\implies x_1 = x_2$\n",
    "    - $\\forall y_1, y_2 \\in g: g \\left( y_1 \\right) = g \\left( y_2 \\right) \\implies y_1 = y_2$\n",
    "    - $g \\circ f \\left( x_1 \\right) = g \\circ f \\left( x_2 \\right)$\n",
    "    - $g \\left( f \\left( x_1 \\right) \\right) = g \\left( f \\left( x_2 \\right) \\right)$\n",
    "    - $f \\left( x_1 \\right) = f \\left( x_2 \\right)$\n",
    "    - $x_1 = x_2$\n",
    "  \n",
    "\n",
    "- Regarding surjection:\n",
    "    - The composite of surjective functions is always surjective: If $f$ and $g$ are both surjective, and the codomain of $g$ is equal to the domain of $f$, then $f \\circ g$ is surjective.\n",
    "    \n",
    "    \n",
    "- Regarding bijection:\n",
    "    - The composition $g \\circ f$ of two bijections $f: X \\implies Y$ and $g: Y \\implies Z$ is a bijection, whose inverse given by $g \\circ f$ is $\\left( g \\circ f \\right)^{−1} = \\left( f^{−1} \\right) \\circ \\left( g^{−1} \\right)$.\n",
    "    \n",
    "---\n"
   ]
  },
  {
   "cell_type": "markdown",
   "metadata": {},
   "source": [
    "#### Prove that for each set $A$:\n",
    "- $A \\cong A$\n",
    "- if $B \\cong A$ then $B \\cong A$ for every pair of sets $A$ and $B$\n",
    "- if $A \\cong B$ and $B \\cong C$ then $A \\cong C$ for every triplet $A$, $B$ and $C$"
   ]
  },
  {
   "cell_type": "markdown",
   "metadata": {},
   "source": [
    "#### **Proof:**\n",
    "\n",
    "- $f \\left( x \\right) = x$\n",
    "- The inverse of two bijections is again a bijection.\n",
    "- The composition of two bijections is again a bijection.\n",
    "\n",
    "Implementation in Python:\n",
    "\n",
    "```python\n",
    "element_range = 10\n",
    "\n",
    "A = B = set(range(element_range))\n",
    "\n",
    "f = lambda x: x ** 2\n",
    "g = lambda y: int(y ** 0.5)\n",
    "h = lambda A, B: ((a, b) for a in A for b in B)\n",
    "g_f = lambda x: g(f(x))\n",
    "\n",
    "set(map(f, A)) == set(map(f, A))  # True\n",
    "set(h(A, B)) == set(h(B, A))  # True\n",
    "set(map(g, set(map(f, A)))) == set(map(g_f, A))  # True\n",
    "```\n",
    "\n",
    "---\n"
   ]
  },
  {
   "cell_type": "markdown",
   "metadata": {},
   "source": [
    "#### Prove that:\n",
    "\n",
    "there exists a bijection between set of natural and even numbers"
   ]
  },
  {
   "cell_type": "markdown",
   "metadata": {},
   "source": [
    "#### **Proof:**\n",
    "\n",
    "$f \\left( x \\right) = 2x$\n",
    "\n",
    "Implementation in Python:\n",
    "\n",
    "```python\n",
    "element_range = 10\n",
    "\n",
    "A = set(range(element_range))\n",
    "B = set(range(0, element_range * 2, 2))\n",
    "\n",
    "f = lambda x: 2 * x\n",
    "\n",
    "C = set(map(f, A))\n",
    "\n",
    "B == C  # True\n",
    "```\n",
    "\n",
    "---\n"
   ]
  },
  {
   "cell_type": "markdown",
   "metadata": {},
   "source": [
    "#### Prove that:\n",
    "\n",
    "if we have a bijection between two finite sets than they have an equal number of elements"
   ]
  },
  {
   "cell_type": "markdown",
   "metadata": {},
   "source": [
    "#### Prove that:\n",
    "\n",
    "$A \\times B \\cong B \\times A$"
   ]
  },
  {
   "cell_type": "markdown",
   "metadata": {},
   "source": [
    "#### **Proof:**\n",
    "\n",
    "$f \\left( a, b \\right) = \\left( b, a \\right)$\n",
    "\n",
    "Implementation in Python:\n",
    "\n",
    "```python\n",
    "element_range = 10\n",
    "\n",
    "A = set(range(element_range))\n",
    "B = set(range(element_range))\n",
    "\n",
    "f = lambda A, B: ((a, b) for a in A for b in B)\n",
    "\n",
    "set(f(A, B)) == set(f(B, A))  # True\n",
    "```\n",
    "\n",
    "---\n"
   ]
  },
  {
   "cell_type": "markdown",
   "metadata": {},
   "source": [
    "$\\cap_{i\\in I}A_i$ and $\\cup_{i\\in I}A_i$"
   ]
  },
  {
   "cell_type": "code",
   "execution_count": 1,
   "metadata": {},
   "outputs": [
    {
     "data": {
      "text/plain": [
       "{1, 3, 5}"
      ]
     },
     "execution_count": 1,
     "metadata": {},
     "output_type": "execute_result"
    }
   ],
   "source": [
    "A = {1, 2, 3, 4, 5}\n",
    "B = {1, 3, 5, 7, 9}\n",
    "\n",
    "union = lambda A, B: A | B\n",
    "intersection = lambda A, B: A & B\n",
    "\n",
    "union(A, B) # {1, 2, 3, 4, 5, 7, 9}\n",
    "intersection(A, B) # {1, 3, 5}"
   ]
  },
  {
   "cell_type": "markdown",
   "metadata": {},
   "source": [
    "We can also define cartesian product of any \"number\" of sets $\\prod_{i \\in I}{A_i}$"
   ]
  },
  {
   "cell_type": "code",
   "execution_count": 2,
   "metadata": {},
   "outputs": [
    {
     "data": {
      "text/html": [
       "<div>\n",
       "<style scoped>\n",
       "    .dataframe tbody tr th:only-of-type {\n",
       "        vertical-align: middle;\n",
       "    }\n",
       "\n",
       "    .dataframe tbody tr th {\n",
       "        vertical-align: top;\n",
       "    }\n",
       "\n",
       "    .dataframe thead th {\n",
       "        text-align: right;\n",
       "    }\n",
       "</style>\n",
       "<table border=\"1\" class=\"dataframe\">\n",
       "  <thead>\n",
       "    <tr style=\"text-align: right;\">\n",
       "      <th></th>\n",
       "      <th>0</th>\n",
       "      <th>1</th>\n",
       "      <th>2</th>\n",
       "    </tr>\n",
       "  </thead>\n",
       "  <tbody>\n",
       "    <tr>\n",
       "      <th>0</th>\n",
       "      <td>0</td>\n",
       "      <td>0</td>\n",
       "      <td>0</td>\n",
       "    </tr>\n",
       "    <tr>\n",
       "      <th>1</th>\n",
       "      <td>0</td>\n",
       "      <td>1</td>\n",
       "      <td>0</td>\n",
       "    </tr>\n",
       "    <tr>\n",
       "      <th>2</th>\n",
       "      <td>1</td>\n",
       "      <td>0</td>\n",
       "      <td>0</td>\n",
       "    </tr>\n",
       "    <tr>\n",
       "      <th>3</th>\n",
       "      <td>1</td>\n",
       "      <td>1</td>\n",
       "      <td>0</td>\n",
       "    </tr>\n",
       "    <tr>\n",
       "      <th>4</th>\n",
       "      <td>2</td>\n",
       "      <td>0</td>\n",
       "      <td>0</td>\n",
       "    </tr>\n",
       "    <tr>\n",
       "      <th>5</th>\n",
       "      <td>2</td>\n",
       "      <td>1</td>\n",
       "      <td>0</td>\n",
       "    </tr>\n",
       "  </tbody>\n",
       "</table>\n",
       "</div>"
      ],
      "text/plain": [
       "   0  1  2\n",
       "0  0  0  0\n",
       "1  0  1  0\n",
       "2  1  0  0\n",
       "3  1  1  0\n",
       "4  2  0  0\n",
       "5  2  1  0"
      ]
     },
     "execution_count": 2,
     "metadata": {},
     "output_type": "execute_result"
    }
   ],
   "source": [
    "import itertools\n",
    "import pandas as pd\n",
    "import random\n",
    "\n",
    "bound = 3\n",
    "sets = []\n",
    "cartesian_product = []\n",
    "\n",
    "for _ in range(bound):\n",
    "    sets.append(set(range(random.randint(1, bound))))\n",
    "\n",
    "for element in itertools.product(*sets):\n",
    "    cartesian_product.append(element)\n",
    "    \n",
    "pd.DataFrame(cartesian_product)"
   ]
  },
  {
   "cell_type": "markdown",
   "metadata": {},
   "source": [
    "#### Prove that:\n",
    "\n",
    "$$A \\cap (B \\cup C)=(A \\cap B) \\cup (A\\cap C)$$\n",
    "$$A \\cup (B \\cap C)=(A \\cup B) \\cap (A\\cup C)$$"
   ]
  },
  {
   "cell_type": "markdown",
   "metadata": {},
   "source": [
    "#### **Proof:**\n",
    "\n",
    "Definition of set intersection: $A \\cap B \\iff \\forall x: \\left( x \\in A \\land x \\in B \\right)$\n",
    "\n",
    "Definition of set union: $A \\cup B \\iff \\forall x: \\left( x \\in A \\lor x \\in B \\right)$\n",
    "\n",
    "*Therefore:*\n",
    "\n",
    "- $\\left( \\left( x \\in A \\right) \\land \\left( x \\in B \\lor x \\in C \\right) \\right) = \\left( \\left( x \\in A \\land x \\in B \\right) \\lor \\left( x \\in A \\land x \\in C \\right) \\right)$\n",
    "- $\\left( \\left( x \\in A \\right) \\lor \\left( x \\in B \\land x \\in C \\right) \\right) = \\left( \\left( x \\in A \\lor x \\in B \\right) \\land \\left( x \\in A \\lor x \\in C \\right) \\right)$\n",
    "\n",
    "Implementation in Python:\n",
    "\n",
    "```python\n",
    "A = {1, 2, 3}\n",
    "B = {4, 5, 6}\n",
    "C = {7, 8, 9}\n",
    "\n",
    "A.intersection(B.union(C)) == A.intersection(B).union(A.intersection(C))  # True\n",
    "A.union(B.intersection(C)) == A.union(B).intersection(A.union(C))  # True\n",
    "```\n",
    "\n",
    "---\n"
   ]
  },
  {
   "cell_type": "markdown",
   "metadata": {},
   "source": [
    "# Linear Algebra"
   ]
  },
  {
   "cell_type": "markdown",
   "metadata": {},
   "source": [
    "#### Prove that:\n",
    "\n",
    "$(AB)^{T} = B^{T}A^{T}$ for each pair of matrices $A, B \\in \\mathbb{R}^{n \\times m}$"
   ]
  },
  {
   "cell_type": "markdown",
   "metadata": {},
   "source": [
    "#### **Proof:**\n",
    "\n",
    "Definition of matrix transposition: $\\left( X^T \\right)_{i, j} = X_{j, i}$\n",
    "\n",
    "By the aforementioned definition, - we can conclude that: $\\left( A B \\right)^T_{i, j} = \\left( A B \\right)_{j, i}$\n",
    "\n",
    "Therefore: $\\left( B^T A^T \\right)_{i, j} = \\displaystyle\\sum_{k} B^T_{i, k} A^T_{k, j} = \\displaystyle\\sum_{k} A_{j, k} B_{k, i} = \\left( A B \\right)^T_{i, j}$\n",
    "\n",
    "Implementation in Python:\n",
    "\n",
    "```python\n",
    "import numpy as np\n",
    "\n",
    "A = np.array([[1, 3], [5, 7]])\n",
    "B = np.array([[2, 4], [6, 8]])\n",
    "\n",
    "np.equal((A @ B).T, B.T @ A.T).all()  # True\n",
    "```\n",
    "\n",
    "---\n"
   ]
  },
  {
   "cell_type": "markdown",
   "metadata": {},
   "source": [
    "## Functions on tensors"
   ]
  },
  {
   "cell_type": "markdown",
   "metadata": {},
   "source": [
    "#### Write combination for $XOR$ calculation"
   ]
  },
  {
   "cell_type": "code",
   "execution_count": 3,
   "metadata": {},
   "outputs": [
    {
     "data": {
      "text/html": [
       "<style  type=\"text/css\" >\n",
       "</style><table id=\"T_9c3c43be_04e8_11ea_8bb8_70c94ec15e68\" ><thead>    <tr>        <th class=\"col_heading level0 col0\" >Input A</th>        <th class=\"col_heading level0 col1\" >Input B</th>        <th class=\"col_heading level0 col2\" >Output</th>    </tr></thead><tbody>\n",
       "                <tr>\n",
       "                                <td id=\"T_9c3c43be_04e8_11ea_8bb8_70c94ec15e68row0_col0\" class=\"data row0 col0\" >0</td>\n",
       "                        <td id=\"T_9c3c43be_04e8_11ea_8bb8_70c94ec15e68row0_col1\" class=\"data row0 col1\" >0</td>\n",
       "                        <td id=\"T_9c3c43be_04e8_11ea_8bb8_70c94ec15e68row0_col2\" class=\"data row0 col2\" >0</td>\n",
       "            </tr>\n",
       "            <tr>\n",
       "                                <td id=\"T_9c3c43be_04e8_11ea_8bb8_70c94ec15e68row1_col0\" class=\"data row1 col0\" >0</td>\n",
       "                        <td id=\"T_9c3c43be_04e8_11ea_8bb8_70c94ec15e68row1_col1\" class=\"data row1 col1\" >1</td>\n",
       "                        <td id=\"T_9c3c43be_04e8_11ea_8bb8_70c94ec15e68row1_col2\" class=\"data row1 col2\" >1</td>\n",
       "            </tr>\n",
       "            <tr>\n",
       "                                <td id=\"T_9c3c43be_04e8_11ea_8bb8_70c94ec15e68row2_col0\" class=\"data row2 col0\" >1</td>\n",
       "                        <td id=\"T_9c3c43be_04e8_11ea_8bb8_70c94ec15e68row2_col1\" class=\"data row2 col1\" >0</td>\n",
       "                        <td id=\"T_9c3c43be_04e8_11ea_8bb8_70c94ec15e68row2_col2\" class=\"data row2 col2\" >1</td>\n",
       "            </tr>\n",
       "            <tr>\n",
       "                                <td id=\"T_9c3c43be_04e8_11ea_8bb8_70c94ec15e68row3_col0\" class=\"data row3 col0\" >1</td>\n",
       "                        <td id=\"T_9c3c43be_04e8_11ea_8bb8_70c94ec15e68row3_col1\" class=\"data row3 col1\" >1</td>\n",
       "                        <td id=\"T_9c3c43be_04e8_11ea_8bb8_70c94ec15e68row3_col2\" class=\"data row3 col2\" >0</td>\n",
       "            </tr>\n",
       "    </tbody></table>"
      ],
      "text/plain": [
       "<pandas.io.formats.style.Styler at 0x2c40f678e08>"
      ]
     },
     "execution_count": 3,
     "metadata": {},
     "output_type": "execute_result"
    }
   ],
   "source": [
    "import numpy as np\n",
    "import pandas as pd\n",
    "\n",
    "sigmoid = lambda x: np.reciprocal(1 + np.exp(-x))\n",
    "\n",
    "weights = np.array([20, 20])\n",
    "truth_table = [[0, 0], [0, 1], [1, 0], [1, 1]]\n",
    "biases = {\"and\": np.array([-30]), \"or\": np.array([-10])}\n",
    "\n",
    "activation = lambda _W, _X, _b: sigmoid(_W.T @ _X + _b)\n",
    "\n",
    "outputs = [\n",
    "    np.around(\n",
    "        activation(weights, inputs, biases[\"or\"])\n",
    "        - activation(weights, inputs, biases[\"and\"])\n",
    "    )\n",
    "    for inputs in truth_table\n",
    "]\n",
    "\n",
    "pd.DataFrame(\n",
    "    columns=[\"Input A\", \"Input B\", \"Output\"],\n",
    "    data=np.concatenate((truth_table, outputs), axis=1),\n",
    "    dtype=np.int8,\n",
    ").style.hide_index()"
   ]
  }
 ],
 "metadata": {
  "kernelspec": {
   "display_name": "Python 3",
   "language": "python",
   "name": "python3"
  },
  "language_info": {
   "codemirror_mode": {
    "name": "ipython",
    "version": 3
   },
   "file_extension": ".py",
   "mimetype": "text/x-python",
   "name": "python",
   "nbconvert_exporter": "python",
   "pygments_lexer": "ipython3",
   "version": "3.7.5"
  }
 },
 "nbformat": 4,
 "nbformat_minor": 4
}
