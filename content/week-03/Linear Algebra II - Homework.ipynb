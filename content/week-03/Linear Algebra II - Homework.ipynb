{
 "cells": [
  {
   "cell_type": "markdown",
   "metadata": {},
   "source": [
    "# Linear spaces"
   ]
  },
  {
   "cell_type": "markdown",
   "metadata": {},
   "source": [
    "#### Prove that:\n",
    "For every linear function $f:V \\to U$ between vector spaces $V$ and $U$ on the real numbers, every sequence of vectors $v_1, v_2, \\dots v_m \\in V$ and every scalars $a_1, a_2, \\dots, a_m \\in \\mathbb{R}$:\n",
    "<br>\n",
    "$$f(a_1v_1 + a_2v_2 + \\dots + a_mv_m) = a_1f(v_1) + a_2f(v_2) + \\dots + a_mf(v_m)$$"
   ]
  },
  {
   "cell_type": "markdown",
   "metadata": {},
   "source": [
    "#### **Proof:**\n",
    "\n",
    "Any linear map $f: V \\to U$ is homogeneous of degree 1 since by the definition of linearity: $f \\left( a v \\right) = a f \\left( v \\right)$\n",
    "\n",
    "Implementation in Python:\n",
    "\n",
    "```python\n",
    "import numpy as np\n",
    "\n",
    "bound = np.random.randint(1, 10)\n",
    "scalars = [np.int8(np.random.randint(1, bound)) for scalar in range(bound)]\n",
    "vectors = [np.random.rand(bound) for vector in range(bound)]\n",
    "\n",
    "f = lambda x: 2 * x\n",
    "\n",
    "inside = outside = 0\n",
    "\n",
    "for (scalar, vector) in zip(scalars, vectors):\n",
    "    inside += f(scalar * vector)\n",
    "    outside += scalar * f(vector)\n",
    "\n",
    "np.equal(inside, outside).all()  # True\n",
    "```\n"
   ]
  }
 ],
 "metadata": {
  "kernelspec": {
   "display_name": "Python 3",
   "language": "python",
   "name": "python3"
  },
  "language_info": {
   "codemirror_mode": {
    "name": "ipython",
    "version": 3
   },
   "file_extension": ".py",
   "mimetype": "text/x-python",
   "name": "python",
   "nbconvert_exporter": "python",
   "pygments_lexer": "ipython3",
   "version": "3.7.5"
  }
 },
 "nbformat": 4,
 "nbformat_minor": 4
}
